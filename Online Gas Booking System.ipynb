{
 "cells": [
  {
   "cell_type": "code",
   "execution_count": null,
   "id": "e4d39434-4602-4d00-956b-2c638be31903",
   "metadata": {},
   "outputs": [],
   "source": [
    "# online gas booking system\n",
    "from _future__ import annotations\n",
    "import json,os,uuid,getpass,random\n",
    "from datetime import datetime,timedelta\n",
    "from typing import dict, optional\n",
    "DATA_FILE = \"gas_data.json\"\n",
    "DATA_FMT = \"%Y-%m-%d %H:%M\"\n",
    "BOOKING_STATUS = (\"confirmed\", \"scheduled\",\"out_for_delivery\")\n",
    "\n",
    "def now_str() -> str:\n",
    "    return datetime.now().strftime(DATE_FMT)\n",
    "def date_str() -> str:\n",
    "    return dt.strftime(DATE_FMT)\n",
    "def next_working_day(days =1) -> str:\n",
    "    return date_str(datetime.now() + timedelta(days = days))\n",
    "def gen_id() -> str:\n",
    "    return f\"{prefix}_{uuid.uuid4().hex[:8]}\"\n",
    "def load_db() -> dict:\n",
    "    if os.path.exists(DATA_FILE):\n",
    "        with open(DATA_FILE, \"r\", encoding= \"utf-8\") as f:\n",
    "            return json.load(f)\n",
    "\n",
    "    db = {\n",
    "         \"meta\":{\"cylinder_price\":950 , \"created\": now_str()},\n",
    "         \"users\":{},\n",
    "         \"bookings\":{}\n",
    "    }\n",
    "    admin_id = gen_id(\"U\")\n",
    "    db[\"users\"][admin_id] = {\n",
    "    \"id\" : admin_id, \"role\": \"admin\", \"name\" : \"admin ,\"phone\" : \"9999999999\",\"address\" : \"-\",\"password\": \"admin\"\n",
    "    }\n",
    "     save_db(db)\n",
    "     return db\n",
    "\n",
    "def save_db(db:dict) -> None:\n",
    "    with open(DATA_FILE, \"w\" < encoding = \"utf - 8\") as f:\n",
    "         json.dump(db , f, indent = 2)\n",
    "\n",
    "def print_line(char= \"-\",n=50):"
   ]
  }
 ],
 "metadata": {
  "kernelspec": {
   "display_name": "Python 3 (ipykernel)",
   "language": "python",
   "name": "python3"
  },
  "language_info": {
   "codemirror_mode": {
    "name": "ipython",
    "version": 3
   },
   "file_extension": ".py",
   "mimetype": "text/x-python",
   "name": "python",
   "nbconvert_exporter": "python",
   "pygments_lexer": "ipython3",
   "version": "3.13.7"
  }
 },
 "nbformat": 4,
 "nbformat_minor": 5
}
